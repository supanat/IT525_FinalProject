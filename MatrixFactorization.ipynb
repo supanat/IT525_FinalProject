{
 "cells": [
  {
   "cell_type": "code",
   "execution_count": 8,
   "metadata": {
    "collapsed": true
   },
   "outputs": [],
   "source": [
    "import numpy as np"
   ]
  },
  {
   "cell_type": "code",
   "execution_count": 5,
   "metadata": {
    "collapsed": true
   },
   "outputs": [],
   "source": [
    "def matrix_factorization(R, P, Q, K=2, steps=5000, alpha=0.0002, beta=0.02, tol=0.001):\n",
    "    n, m = R.shape\n",
    "    Q = Q.T\n",
    "    for _ in range(steps):\n",
    "        for i in range(n):\n",
    "            for j in range(m):\n",
    "                if R[i][j] > 0:\n",
    "                    eij = R[i][j] - np.dot(P[i,:], Q[:,j])\n",
    "                    for k in range(K):\n",
    "                        P[i][k] = P[i][k] + alpha * (2 * eij * Q[k][j] - beta * P[i][k])\n",
    "                        Q[k][j] = Q[k][j] + alpha * (2 * eij * P[i][k] - beta * Q[k][j])\n",
    "        eR = np.dot(P, Q)\n",
    "        e = 0\n",
    "        for i in range(n):\n",
    "            for j in range(m):\n",
    "                if R[i][j] > 0:\n",
    "                    e = e + (R[i][j] - np.dot(P[i,:], Q[:,j])) ** 2\n",
    "                    for k in range(K):\n",
    "                        e = e + (beta/2) * (P[i][k] ** 2 + Q[k][j] ** 2) # total error\n",
    "        if e < tol:\n",
    "            break\n",
    "    return P, Q.T"
   ]
  },
  {
   "cell_type": "code",
   "execution_count": 60,
   "metadata": {
    "collapsed": true
   },
   "outputs": [],
   "source": [
    "R = np.array([[4,0,2,4],  # user 1\n",
    "              [4,0,2,0],  # user 2\n",
    "              [5,2,0,1],  # user 3\n",
    "              [1,0,0,5],  # user 4\n",
    "              [2,3,0,5]]) # user 5"
   ]
  },
  {
   "cell_type": "code",
   "execution_count": 61,
   "metadata": {
    "collapsed": true
   },
   "outputs": [],
   "source": [
    "n, m = R.shape\n",
    "K = 2 # latent variable\n",
    "\n",
    "P = np.random.rand(n, K) # randomly create P, Q first\n",
    "Q = np.random.rand(m, K)\n",
    "P, Q = matrix_factorization(R, P, Q, K)\n",
    "Rhat = np.dot(P, Q.T)"
   ]
  },
  {
   "cell_type": "code",
   "execution_count": 62,
   "metadata": {},
   "outputs": [
    {
     "name": "stdout",
     "output_type": "stream",
     "text": [
      "[[ 3.96  3.08  2.1   3.96]\n",
      " [ 4.01  2.82  1.9   3.36]\n",
      " [ 4.96  2.    1.25  1.01]\n",
      " [ 1.    2.66  1.91  4.98]\n",
      " [ 2.01  2.97  2.1   5.  ]]\n"
     ]
    }
   ],
   "source": [
    "np.set_printoptions(precision=2)\n",
    "print(Rhat)"
   ]
  },
  {
   "cell_type": "code",
   "execution_count": 16,
   "metadata": {},
   "outputs": [
    {
     "data": {
      "text/plain": [
       "numpy.ndarray"
      ]
     },
     "execution_count": 16,
     "metadata": {},
     "output_type": "execute_result"
    }
   ],
   "source": [
    "type (Rhat)"
   ]
  },
  {
   "cell_type": "code",
   "execution_count": 63,
   "metadata": {},
   "outputs": [
    {
     "data": {
      "text/plain": [
       "array([[4, 0, 2, 4],\n",
       "       [4, 0, 2, 0],\n",
       "       [5, 2, 0, 1],\n",
       "       [1, 0, 0, 5],\n",
       "       [2, 3, 0, 5]])"
      ]
     },
     "execution_count": 63,
     "metadata": {},
     "output_type": "execute_result"
    }
   ],
   "source": [
    "R"
   ]
  },
  {
   "cell_type": "code",
   "execution_count": 64,
   "metadata": {},
   "outputs": [
    {
     "data": {
      "text/plain": [
       "array([[ 1.61,  1.05],\n",
       "       [ 1.62,  0.8 ],\n",
       "       [ 1.96, -0.29],\n",
       "       [ 0.46,  1.89],\n",
       "       [ 0.86,  1.75]])"
      ]
     },
     "execution_count": 64,
     "metadata": {},
     "output_type": "execute_result"
    }
   ],
   "source": [
    "P"
   ]
  },
  {
   "cell_type": "code",
   "execution_count": 65,
   "metadata": {},
   "outputs": [
    {
     "data": {
      "text/plain": [
       "array([[ 2.51,  1.19,  0.76,  0.87],\n",
       "       [-0.08,  1.12,  0.83,  2.43]])"
      ]
     },
     "execution_count": 65,
     "metadata": {},
     "output_type": "execute_result"
    }
   ],
   "source": [
    "Q.T"
   ]
  },
  {
   "cell_type": "code",
   "execution_count": null,
   "metadata": {
    "collapsed": true
   },
   "outputs": [],
   "source": []
  }
 ],
 "metadata": {
  "kernelspec": {
   "display_name": "Python 3",
   "language": "python",
   "name": "python3"
  },
  "language_info": {
   "codemirror_mode": {
    "name": "ipython",
    "version": 3
   },
   "file_extension": ".py",
   "mimetype": "text/x-python",
   "name": "python",
   "nbconvert_exporter": "python",
   "pygments_lexer": "ipython3",
   "version": "3.6.3"
  }
 },
 "nbformat": 4,
 "nbformat_minor": 2
}
