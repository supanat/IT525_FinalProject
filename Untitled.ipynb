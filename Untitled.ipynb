{
 "cells": [
  {
   "cell_type": "code",
   "execution_count": 10,
   "metadata": {},
   "outputs": [],
   "source": [
    "def combine(age):\n",
    "    if (age == 30) or (age >30) and (age <40):\n",
    "        return '<30'"
   ]
  },
  {
   "cell_type": "code",
   "execution_count": 3,
   "metadata": {},
   "outputs": [
    {
     "data": {
      "text/plain": [
       "'<30'"
      ]
     },
     "execution_count": 3,
     "metadata": {},
     "output_type": "execute_result"
    }
   ],
   "source": [
    "combine(30)"
   ]
  },
  {
   "cell_type": "code",
   "execution_count": null,
   "metadata": {
    "collapsed": true
   },
   "outputs": [],
   "source": [
    "def combine_age(age):\n",
    "    if age>30:\n",
    "        return '<30'\n",
    "    if age == 30 or >30 and <40:\n",
    "        return '30-40'\n",
    "    if age == 40 or >40 and <50:\n",
    "        return '40-50'\n",
    "    if age == 50 or >50 and <60:\n",
    "        return '50-60'\n",
    "    if age == 60 or >60 and <70:\n",
    "        return '60-70'\n",
    "    if age == 70 or >70 and <80:\n",
    "        return '70-80'\n",
    "    if age == 80 or >80:\n",
    "        return '80+'\n",
    "    else:\n",
    "         return age"
   ]
  }
 ],
 "metadata": {
  "kernelspec": {
   "display_name": "Python 3",
   "language": "python",
   "name": "python3"
  },
  "language_info": {
   "codemirror_mode": {
    "name": "ipython",
    "version": 3
   },
   "file_extension": ".py",
   "mimetype": "text/x-python",
   "name": "python",
   "nbconvert_exporter": "python",
   "pygments_lexer": "ipython3",
   "version": "3.6.3"
  }
 },
 "nbformat": 4,
 "nbformat_minor": 2
}
